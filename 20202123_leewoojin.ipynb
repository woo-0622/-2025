{
  "nbformat": 4,
  "nbformat_minor": 0,
  "metadata": {
    "colab": {
      "provenance": [],
      "authorship_tag": "ABX9TyNPc8syyOOzVYjsaBv6Vcpd",
      "include_colab_link": true
    },
    "kernelspec": {
      "name": "python3",
      "display_name": "Python 3"
    },
    "language_info": {
      "name": "python"
    }
  },
  "cells": [
    {
      "cell_type": "markdown",
      "metadata": {
        "id": "view-in-github",
        "colab_type": "text"
      },
      "source": [
        "<a href=\"https://colab.research.google.com/github/woo-0622/-2025/blob/main/20202123_leewoojin.ipynb\" target=\"_parent\"><img src=\"https://colab.research.google.com/assets/colab-badge.svg\" alt=\"Open In Colab\"/></a>"
      ]
    },
    {
      "cell_type": "code",
      "execution_count": null,
      "metadata": {
        "colab": {
          "base_uri": "https://localhost:8080/"
        },
        "id": "KakjZjrCR3wz",
        "outputId": "c201d096-95b0-4012-bc67-cc6dcc27b6ae"
      },
      "outputs": [
        {
          "output_type": "stream",
          "name": "stdout",
          "text": [
            "[3.98930842 5.85916971 5.42629056 6.60784432 5.06485047 3.9770833\n",
            " 4.21614519 4.99950629 5.49350691 5.89603847 5.58895021 5.26202608\n",
            " 4.96877758 5.93189589 5.6505464  5.64965013 4.55069291 4.77929411\n",
            " 6.64952181 4.04227115 5.4800664  4.44715031 5.72723735 5.56807905\n",
            " 4.67635167 4.74773991 2.56586141 4.74231926 4.72540311 3.73813487\n",
            " 4.98715364 5.19448411 4.81395998 3.94586418 4.40374329 5.6294467\n",
            " 3.78931129 4.78355886 2.92978735 5.43676335]\n",
            "\n",
            "\n",
            "Full set of data points for Gaussian data:\n",
            "       Score\n",
            "0   3.989308\n",
            "1   5.859170\n",
            "2   5.426291\n",
            "3   6.607844\n",
            "4   5.064850\n",
            "5   3.977083\n",
            "6   4.216145\n",
            "7   4.999506\n",
            "8   5.493507\n",
            "9   5.896038\n",
            "10  5.588950\n",
            "11  5.262026\n",
            "12  4.968778\n",
            "13  5.931896\n",
            "14  5.650546\n",
            "15  5.649650\n",
            "16  4.550693\n",
            "17  4.779294\n",
            "18  6.649522\n",
            "19  4.042271\n",
            "20  5.480066\n",
            "21  4.447150\n",
            "22  5.727237\n",
            "23  5.568079\n",
            "24  4.676352\n",
            "25  4.747740\n",
            "26  2.565861\n",
            "27  4.742319\n",
            "28  4.725403\n",
            "29  3.738135\n",
            "30  4.987154\n",
            "31  5.194484\n",
            "32  4.813960\n",
            "33  3.945864\n",
            "34  4.403743\n",
            "35  5.629447\n",
            "36  3.789311\n",
            "37  4.783559\n",
            "38  2.929787\n",
            "39  5.436763\n",
            "\n",
            "\n",
            "Shapiro-Wilk Test Statistic: 0.971\n",
            "p-value: 0.3856347558962725\n",
            "Sample looks Gaussian (fail to reject H0)\n"
          ]
        }
      ],
      "source": [
        "import numpy as np # numeric calculation\n",
        "import pandas as pd # data analysis\n",
        "import seaborn as sns\n",
        "from scipy.stats import shapiro # stats\n",
        "\n",
        "\n",
        "data_gaussian = np.random.normal(loc=5, scale=1, size=40)\n",
        "print(data_gaussian)\n",
        "print('\\n')\n",
        "\n",
        "df = pd.DataFrame(data_gaussian, columns=['Score'])\n",
        "print('Full set of data points for Gaussian data:')\n",
        "print(df)\n",
        "print('\\n')\n",
        "\n",
        "\n",
        "df.to_csv('/content/game_skills.csv', index=True)\n",
        "\n",
        "\n",
        "statistic, p_value = shapiro(data_gaussian)\n",
        "\n",
        "\n",
        "statistic = round(statistic, 3)\n",
        "\n",
        "print(\"Shapiro-Wilk Test Statistic:\", statistic)\n",
        "print(\"p-value:\", p_value)\n",
        "\n",
        "\n",
        "alpha = 0.05\n",
        "\n",
        "\n",
        "if p_value > alpha:\n",
        "    print(\"Sample looks Gaussian (fail to reject H0)\")\n",
        "else:\n",
        "    print(\"Sample does not look Gaussian (reject H0)\")\n"
      ]
    },
    {
      "cell_type": "code",
      "source": [
        "!git clone 'https://github.com/woo-0622/-2025'"
      ],
      "metadata": {
        "colab": {
          "base_uri": "https://localhost:8080/"
        },
        "id": "SenUOOTuZiML",
        "outputId": "0e9d7e36-ef5e-43cd-a681-837198618e4c"
      },
      "execution_count": null,
      "outputs": [
        {
          "output_type": "stream",
          "name": "stdout",
          "text": [
            "fatal: destination path 'game_skills.csv' already exists and is not an empty directory.\n"
          ]
        }
      ]
    },
    {
      "cell_type": "code",
      "source": [
        "import pandas as pd\n",
        "from scipy.stats import ttest_ind\n",
        "\n",
        "# Load the data from the CSV file\n",
        "data = pd.read_csv('/content/통합 문서2.csv')\n",
        "data.columns = data.columns.str.strip()\n",
        "# Filter operation on the DataFrame data to accesses the 'Group' column of the DataFrame, include only rows for Group 1\n",
        "#then extract the 'Values' column from those rows exclusively\n",
        "group_female = data[data['Gender'] == '여학생']['Score']\n",
        "# The same applies to rows for Group 2 and their associated values.\n",
        "group_male = data[data['Gender'] == '남학생']['Score']\n",
        "\n",
        "# Perform independent two-sample t-test\n",
        "t_statistic, p_value = ttest_ind(group_female, group_male)\n",
        "\n",
        "# Print the results\n",
        "print(\"Ho: There is difference in game skills between Gender\")\n",
        "print(\"t-statistic:\", t_statistic)\n",
        "print(\"p-value:\", p_value)\n",
        "\n",
        "# Interpret the results\n",
        "alpha = 0.05\n",
        "if p_value < alpha:\n",
        "    print(\"Interpretation: Data between the two groups are NOT equal. (Reject Ho (p<0.05*))\")\n",
        "else:\n",
        "    print(\"Interpretation: Data between the two groups are equal. (Fail to reject Ho (p>0.05*))\")"
      ],
      "metadata": {
        "colab": {
          "base_uri": "https://localhost:8080/"
        },
        "id": "ahTV9fTfZyce",
        "outputId": "9025c1e8-0c93-4fb6-89e3-376e9bf25347"
      },
      "execution_count": null,
      "outputs": [
        {
          "output_type": "stream",
          "name": "stdout",
          "text": [
            "Ho: There is difference in game skills between Gender\n",
            "t-statistic: -0.9845485512282022\n",
            "p-value: 0.33107339217920906\n",
            "Interpretation: Data between the two groups are equal. (Fail to reject Ho (p>0.05*))\n"
          ]
        }
      ]
    },
    {
      "cell_type": "code",
      "source": [],
      "metadata": {
        "id": "3NOKPAVllM1h"
      },
      "execution_count": null,
      "outputs": []
    }
  ]
}