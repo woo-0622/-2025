{
  "nbformat": 4,
  "nbformat_minor": 0,
  "metadata": {
    "colab": {
      "provenance": [],
      "include_colab_link": true
    },
    "kernelspec": {
      "name": "python3",
      "display_name": "Python 3"
    },
    "language_info": {
      "name": "python"
    }
  },
  "cells": [
    {
      "cell_type": "markdown",
      "metadata": {
        "id": "view-in-github",
        "colab_type": "text"
      },
      "source": [
        "<a href=\"https://colab.research.google.com/github/woo-0622/-2025/blob/main/15_linearregressionmodel_mixedeffectsmodels.ipynb\" target=\"_parent\"><img src=\"https://colab.research.google.com/assets/colab-badge.svg\" alt=\"Open In Colab\"/></a>"
      ]
    },
    {
      "cell_type": "markdown",
      "source": [
        "###_⏰ Before we get down to business_\n",
        "\n",
        "##**[EMA experiment Demo on Youtue](https://www.youtube.com/watch?v=pYSDkQa5WEI)**\n",
        "- <font color = 'red'> Watch 3:35 for the experimental demo"
      ],
      "metadata": {
        "id": "zxz9aLbdXM2r"
      }
    },
    {
      "cell_type": "markdown",
      "source": [
        "##**1️⃣ Linear Regression Model**\n",
        "\n",
        "###[**Recall linear equation (y = b + ax)**](https://github.com/ms624atyale/Data_Analysis/blob/main/9_LinearEquation.ipynb)\n",
        "\n",
        "🍒 🍏 🍉 🍓 🍒 🍏 🍉 🍓 🍒 🍏 🍉 🍓 🍒 🍏\n",
        "\n",
        ">\n",
        "\n",
        "###_**Ho:**_ Constriction duration of the lower lip is the same across different speech rate (fast vs. comfortable).\n",
        "\n",
        ">\n",
        "\n",
        "[**To download a csv file for a class activity_DO NOT DISTRIBUTE_IN-CLASS ACTIVITY USE ONLY** 💽](https://github.com/ms624atyale/Data_Misc/blob/main/EMA_LLy_OpeningDur_apa_7Subjects_MixedEffectsModel_Sample_ClassActivity_DoNotDistributePublish_NotAllowed.csv)\n",
        "\n"
      ],
      "metadata": {
        "id": "XzDme0znWh3m"
      }
    },
    {
      "cell_type": "markdown",
      "source": [
        "### 🐹 🌱 **Cheer Up! We can do it!**"
      ],
      "metadata": {
        "id": "Sc6XZzkOy5S9"
      }
    },
    {
      "cell_type": "markdown",
      "source": [
        "## [**R script for Linear Regression Model in .txt**](https://github.com/ms624atyale/Pandas_Stats_Data_Analysis_2025/blob/main/R_scriptBase4_LinearRegressionModel_MixedEffectsModels.txt)\n",
        "\n",
        "> summary(lm(LLy_Max ~ SpeechRate, data = dt))\n",
        "\n",
        "> The result of the lm command above\n",
        "Call:\n",
        "lm(formula = LLy_Max ~ SpeechRate, data = dt)\n",
        "-0.5408 값은 알파벳 순서대로 기준값을 잡는데 기준은 바로 comf이며 fast로 발음 했을대 기준값보다 혓바닥?이 저만큼 떨어져 있다는것을 의미함\n",
        "\n",
        "---\n",
        "Residuals:\n",
        "\n",
        "|Min|1Q|Median|3Q|Max |\n",
        "|:-:|:-:|:-:|:-:|:-:|\n",
        "|-4.8333|-1.2741|-0.0259|1.4259|5.1667|\n",
        "\n",
        ">\n",
        "---\n",
        "Coefficients:\n",
        "\n",
        "||Estimate|Std. Error|t value|Pr(>t)|\n",
        "|:-:|:-:|:-:|:-:|:-:|\n",
        "|(Intercept)|<font color = 'blue'>**-15.3259**|0.1754|-87.358|< 2e-16 ***|\n",
        "|SpeechRate|<font color = 'red'>**-0.5408**|0.2487|12.175|0.0307*|\n",
        "Signif. codes:  0 '***' 0.001 '**' 0.01 '*' 0.05 '.' 0.1 ' ' 1\n",
        "\n",
        "---\n",
        "Residual standard error: 1.857 on 221 degrees of freedom\n",
        "  (1 observation deleted due to missingness)\n",
        "\n",
        "Multiple R-squared:  0.02095,\t**Adjusted R-squared:  0.01652**\n",
        "\n",
        "**F-statistic: 4.729 on 1 and 221 DF,  p-value: 0.0307**\n",
        "\n",
        ">\n",
        "\n",
        "> Interpretation: “The LLy position varied with SpeechRate.” This indicates that lip position is higher for comfortable speech rate by 0.5408 mm."
      ],
      "metadata": {
        "id": "OhoVzsN8y2yR"
      }
    },
    {
      "cell_type": "markdown",
      "source": [
        "# 2️⃣  Mixed Effects Model\n",
        "### A model contacting both fixed and random factors.\n",
        "### R packages: lmerTest\n",
        "R function: lmer() (cf., Johnson(2008) uses different packages and functions)\n",
        "\n",
        "\n",
        "1) **Fixed effects**: Factors we are interested in (e.g., speech rates, word boundary, prosodic position, etc. in Linguistics).\n",
        "\n",
        "2) **Random effects**: Subjects and items are randomly sampled from population.\n",
        "\n",
        "이의를 제기 할 수도 있어서 랜덤으로 들어감\n",
        "\n",
        "- Subjects and Items are randomly sampled from their population. Suppose we redo/repeat the same experiment. In this case, we design its experimental design same as the previous one, implying different subjects and items.\n",
        "\n",
        "- Caution: 수치들은 특정 화자들의 발화를 측정한 결과이다. 따라서 샘플이 다른 화자들을 측정 했을 때에는 결과가 달라질 수 있다. 화자는 전형적인 랜덤(non-repeatable)효과(random effects)의 예이다. (e.g., 교육학에서는 반별 차이, 영어통사론에서는 아이템(예: 동사별) 차이)\n",
        "\n",
        "    e.g., (*PP_SentInitial#* According to the media) (*Arg_subj#* President Menem) (*verb* took) (*Arg_obj#* office) (*PP_SentFinal#* on July 8).\n",
        "\n",
        "3) **Regidual(잔차)**\n",
        "- In regression analysis, a residual is calculated for each data point as follows\n",
        "잔차 값이 작으면 작을수록 모델이 결과를 잘 예측해 설명하는것이고 높으면 베드\n",
        "즉 모델과 예측값이 잘 맞다\n",
        "\n",
        "\n",
        "\n",
        "    - 잔차는 통계에서 실제 관측값과 모델이 예측한 값 간의 차이를 나타내는 값이다.\n",
        "    \n",
        "    - 잔차(Residual) = 실제 값(Observed value)- 예측 값(Predictedvalue)\n",
        "\n",
        "\n",
        "- In a regression analysis, _smaller residuals indicate that the model's predictions are close to the actual values, suggesting a good fit_ (적합도가 좋음). <font color = 'brown'> **Larger residuals** suggest that the model may not be capturing all the patterns in the data, indicating a need for model improvement.</font> <font color = 'gray'>By examining the residuals, statisticians can identify potential issues with the model, such as non-linearity, outliers, or heteroscedasticity (non-constant variance of residuals)</font>.\n",
        "\n",
        "    - 잔차는 모델의 적합성을 평가하는 데 사용되며, 모델이 데이터를 얼마나 잘 설명하는지 보여준다.\n",
        "    \n",
        "    - Adjusted R-squared 값과 함께 통계 결과 보고에 효과적으로 사용할 수 있다.\n",
        "\n",
        "        - \"The linear regression model showed a good fit with an R-squared value of 0.85 and small residuals.\"\n",
        "    \n",
        "\n",
        "\n",
        ">\n",
        "\n",
        "###3) **Mixed effects Model:**\n",
        "\n",
        "summary(lmer(LLy_Max ~ SpeechRate + (1|Subject), data = dt))\n",
        "\n",
        "Linear mixed model fit by REML. t-tests use Satterthwaite's method ['lmerModLmerTest']\n",
        "\n",
        "Formula: LLy_Max ~ SpeechRate + (1 | Subject)\n",
        "   Data: dt\n",
        "\n",
        "REML criterion at convergence: 852.7\n",
        "\n",
        "---\n",
        "Scaled residuals:\n",
        "\n",
        "|Min|1Q|Median|3Q|Max |\n",
        "|:-:|:-:|:-:|:-:|:-:|\n",
        "|-2.46605|-0.68442|0.06472|0.72490|2.96100|\n",
        "       \n",
        "---\n",
        "\n",
        "**Random effects:**\n",
        "\n",
        "|Groups|Name|Variance|Std.Dev.|\n",
        "|:-:|:-:|:-:|:-:|\n",
        "|Subject|(Intercept)|<font color = 'blue'>**1.129**| 1.062|\n",
        "|Residual|          |<font color = 'green'>**2.468**|1.571|\n",
        "Number of obs: 223, groups:  Subject, 7\n",
        "\n",
        "<font color = 'green'> Interpretation:</font>\n",
        "- <font color = 'green'> The residual of 2.468 stands for the random variation that does not stem from the individual subjects component.</font>\n",
        "\n",
        "\n",
        "___\n",
        "\n",
        "**Fixed effects:**\n",
        "random 빼고 나온 결과임 이결과를 가지고 비교함\n",
        "\n",
        "\n",
        "||Estimate|Std. Error|df|t value|Pr(>t)|\n",
        "|:-:|:-:|:-:|:-:|:-:|:-:|\n",
        "|(Intercept)|<font color = 'blue'>**-15.3259**|0.4281|6.7905| -35.800| 5.45e-09 ***|\n",
        "|SpeechRatefast|<font color = 'red'>**-0.5371**| **0.2104**|215.0064|-2.553|0.0114 *|\n",
        "Signif. codes:  0 '***' 0.001 '**' 0.01 '*' 0.05 '.' 0.1 ' ' 1\n",
        "                             \n",
        "---\n",
        "**Correlation** of Fixed Effects:\n",
        "SpeechRtfst (Intr) -0.245\n",
        "\n"
      ],
      "metadata": {
        "id": "wzMe_cIXZ0G1"
      }
    },
    {
      "cell_type": "markdown",
      "source": [
        "#🍯 🍧  🍩  🍡  🍎 🍯 🍧  🍩  🍡  🍎 🍯 🍧  🍩  🍡  🍎 🍯 🍧  🍩  🍡  🍎\n",
        "\n",
        "## <font color = 'orange'> **_Comparison table for the result of Linear regression model and that of Mixed Effects Model_**</font>\n",
        "\n",
        "||Estimate with Linear Regression Model|Estimate with Mixed Effects Model|\n",
        "|:-:|:-:|:-:|\n",
        "|(Intercept)|<font color = 'blue'>**-15.3259**|<font color = 'blue'>**-15.3259**|\n",
        "|SpeechRatefast|<font color = 'red'>**-0.5408**| <font color = 'red'>**-0.5371**|\n",
        "\n",
        "- We coded SpeechRate; therefore, the reference group is SpeechRatecomfortable. The unit is in millimeter(mm).\n",
        "\n",
        "- This (e.g., (intercept) -15.3259) is the baseline estimate for the reference group. (cf., It is different from mean of LLy in comfortable rate.)\n",
        "\n",
        "- In Linear Regression Model, the outcome decreases by about 0.5408 mm in fast rate compared to the comfortable rate.\n",
        "\n",
        "- In Mixed Effects Model, the outcome decreases by about 0.5371 mm in fast rate compared to the comfortable rate, accounting for individual variability."
      ],
      "metadata": {
        "id": "4MdsxY0gnFoh"
      }
    },
    {
      "cell_type": "markdown",
      "source": [
        "## 🔨 🔧 🔩 🚛 🚛 🚛  \n",
        "## **Under construction:** <font color = 'red'> **This is _NOT_ part of your Final (Spring 2025)**\n",
        "\n",
        "Mixed Effects Model Comparison using ANOVA\n",
        "- The results spit out Chi-squared value, Degree of Freedom, and p-value. You can report them on your document.\n",
        "- You can also report t-value of the Fixed Effects of the full model.\n",
        "\n",
        "What to report:\n",
        "- Shif of regiduals from the ramdom effects of a null model (e.g., with one factor) to that of a full model (e.g., with two factors).\n",
        "- Chi-squared value and p-value from model comparisons using ANOVA\n",
        "- Estimates of the fixed effects of a full model (e.g., with two factors)\n",
        "\n",
        "\n",
        "Example:\n",
        "\n",
        "  - \"Adding Speech rate <Table 1.c.i>, we shifted the variance that was previously seen in the random effects in the null model as shown in <Table 1.b.i> (the residual of 2.45 stands for the random variation that does not stem from the individual subjects component) to the fixed effects component (the residual of 2.37). To conclude, the vertical lower lip maxima varied with different speech rates ( _χ2_ = 6.73, p<0.01_), lowering it by 0.54 mm (_SE. ±0.21_) at fast rate (comfortable>fast).\"\n"
      ],
      "metadata": {
        "id": "RC2oYKsxOC0c"
      }
    }
  ]
}